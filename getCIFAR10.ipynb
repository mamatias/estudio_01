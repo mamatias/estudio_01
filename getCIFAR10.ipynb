{
 "cells": [
  {
   "cell_type": "markdown",
   "metadata": {},
   "source": [
    "## Get DB CIFAR 10 DB"
   ]
  },
  {
   "cell_type": "code",
   "execution_count": 1,
   "metadata": {},
   "outputs": [
    {
     "name": "stdout",
     "output_type": "stream",
     "text": [
      "../cifar10/cifar-10-python.tar.gz\n"
     ]
    }
   ],
   "source": [
    "import os, wget\n",
    "\n",
    "# Paths, urls, etc...\n",
    "cifar10_dir = 'cifar10'\n",
    "cifar10_url = 'https://www.cs.toronto.edu/~kriz/cifar-10-python.tar.gz'\n",
    "cifar10_fname = 'cifar-10-python.tar.gz'\n",
    "\n",
    "# Check if directory exist\n",
    "if os.path.isdir('../{}'.format(cifar10_dir)):\n",
    "    # Exist!\n",
    "    None\n",
    "else:\n",
    "    # Doesn't Exist!\n",
    "    os.mkdir('../{}'.format(cifar10_dir))\n",
    "\n",
    "# Download\n",
    "if not os.path.exists('../{folder}/{file}'.format(folder=cifar10_dir, file=cifar10_fname)):\n",
    "    fname = wget.download(cifar10_url, '../{}'.format(cifar10_dir))\n",
    "    print(fname)\n"
   ]
  },
  {
   "cell_type": "markdown",
   "metadata": {},
   "source": [
    "### Decompress"
   ]
  },
  {
   "cell_type": "code",
   "execution_count": 2,
   "metadata": {},
   "outputs": [],
   "source": [
    "import tarfile\n",
    "\n",
    "if (fname.endswith(\"tar.gz\")):\n",
    "    tar = tarfile.open(fname, \"r:gz\")\n",
    "    tar.extractall(path='../{}'.format(cifar10_dir))\n",
    "    tar.close()\n",
    "elif (fname.endswith(\"tar\")):\n",
    "    tar = tarfile.open(fname, \"r:\")\n",
    "    tar.extractall(path='../{}'.format(cifar10_dir))\n",
    "    tar.close()"
   ]
  },
  {
   "cell_type": "code",
   "execution_count": null,
   "metadata": {},
   "outputs": [],
   "source": []
  }
 ],
 "metadata": {
  "kernelspec": {
   "display_name": "Python 3",
   "language": "python",
   "name": "python3"
  },
  "language_info": {
   "codemirror_mode": {
    "name": "ipython",
    "version": 3
   },
   "file_extension": ".py",
   "mimetype": "text/x-python",
   "name": "python",
   "nbconvert_exporter": "python",
   "pygments_lexer": "ipython3",
   "version": "3.7.3"
  }
 },
 "nbformat": 4,
 "nbformat_minor": 4
}
