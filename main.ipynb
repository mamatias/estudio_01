{
 "cells": [
  {
   "cell_type": "markdown",
   "metadata": {},
   "source": [
    "# Working with CIFAR10 DB\n",
    "#### Loading DB, showing random picture"
   ]
  },
  {
   "cell_type": "code",
   "execution_count": 2,
   "metadata": {},
   "outputs": [],
   "source": [
    "import util\n",
    "\n",
    "db_path = '../cifar10/cifar-10-batches-py/'\n",
    "b1_path = '{pre}data_batch_1'.format(pre=db_path)\n",
    "b2_path = '{pre}data_batch_1'.format(pre=db_path)\n",
    "b3_path = '{pre}data_batch_1'.format(pre=db_path)\n",
    "b4_path = '{pre}data_batch_1'.format(pre=db_path)\n",
    "b5_path = '{pre}data_batch_1'.format(pre=db_path)\n",
    "tb_path = '{pre}test_batch'.format(pre=db_path)\n",
    "# Loading batch1 file\n",
    "\n",
    "b1_dicc = util.unpickle(b1_path)"
   ]
  },
  {
   "cell_type": "markdown",
   "metadata": {},
   "source": [
    "*Original shape: (num_channel, width, height)* <br>\n",
    "*Desire shape (TF and matlibplot): (width, height, num_channel)*"
   ]
  },
  {
   "cell_type": "code",
   "execution_count": null,
   "metadata": {},
   "outputs": [],
   "source": []
  }
 ],
 "metadata": {
  "kernelspec": {
   "display_name": "Python 3",
   "language": "python",
   "name": "python3"
  },
  "language_info": {
   "codemirror_mode": {
    "name": "ipython",
    "version": 3
   },
   "file_extension": ".py",
   "mimetype": "text/x-python",
   "name": "python",
   "nbconvert_exporter": "python",
   "pygments_lexer": "ipython3",
   "version": "3.7.3"
  }
 },
 "nbformat": 4,
 "nbformat_minor": 4
}
