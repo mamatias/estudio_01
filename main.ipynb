{
 "cells": [
  {
   "cell_type": "markdown",
   "metadata": {},
   "source": [
    "# Working with CIFAR10 DB\n",
    "#### Loading DB, showing random picture"
   ]
  },
  {
   "cell_type": "code",
   "execution_count": null,
   "metadata": {},
   "outputs": [],
   "source": [
    "import util\n",
    "\n",
    "db_path = '../cifar10/cifar-10-batches-py/'\n",
    "b1_path = '{pre}data_batch_1'.format(pre=db_path)\n",
    "b2_path = '{pre}data_batch_1'.format(pre=db_path)\n",
    "b3_path = '{pre}data_batch_1'.format(pre=db_path)\n",
    "b4_path = '{pre}data_batch_1'.format(pre=db_path)\n",
    "b5_path = '{pre}data_batch_1'.format(pre=db_path)\n",
    "tb_path = '{pre}test_batch'.format(pre=db_path)\n",
    "# Loading batch1 file\n",
    "\n",
    "b1_dicc = util.unpickle(b1_path)"
   ]
  },
  {
   "cell_type": "markdown",
   "metadata": {},
   "source": [
    "*Original shape: (num_channel, width, height)* <br>\n",
    "*Desire shape (TF and matlibplot): (width, height, num_channel)* <br>\n",
    "<br>\n",
    "*Every \"BATCH\" group is conformed by 10000 images*"
   ]
  },
  {
   "cell_type": "code",
   "execution_count": null,
   "metadata": {},
   "outputs": [],
   "source": [
    "import numpy as np\n",
    "\n",
    "#b1_dicc['data'] = np.reshape(b1_dicc['data'],10000,32,32)\n",
    "\n",
    "b1_pics = b1_dicc['data'].reshape(10000, 3, 32, 32)\n",
    "b1_lbls = b1_dicc['labels']"
   ]
  },
  {
   "cell_type": "code",
   "execution_count": null,
   "metadata": {},
   "outputs": [],
   "source": [
    "import matplotlib.pyplot as plt\n",
    "import random"
   ]
  },
  {
   "cell_type": "code",
   "execution_count": null,
   "metadata": {},
   "outputs": [],
   "source": [
    "lbls_ts = []\n",
    "for i in range(9):\n",
    "    # define subplot\n",
    "    plt.subplot(330 + 1 + i)\n",
    "    n_pic = random.randint(0,9999)\n",
    "    plt.imshow(np.transpose(b1_pics[n_pic],(1,2,0)))\n",
    "    lbls_ts.append(util.translateDicc()[b1_lbls[n_pic]])\n",
    "plt.show()\n",
    "print(lbls_ts)"
   ]
  },
  {
   "cell_type": "code",
   "execution_count": null,
   "metadata": {},
   "outputs": [],
   "source": []
  },
  {
   "cell_type": "markdown",
   "metadata": {},
   "source": [
    "#### Bibliografía\n",
    "*https://machinelearningmastery.com/how-to-develop-a-cnn-from-scratch-for-cifar-10-photo-classification/*\n",
    "*https://towardsdatascience.com/cifar-10-image-classification-in-tensorflow-5b501f7dc77c*"
   ]
  }
 ],
 "metadata": {
  "kernelspec": {
   "display_name": "Python 3",
   "language": "python",
   "name": "python3"
  },
  "language_info": {
   "codemirror_mode": {
    "name": "ipython",
    "version": 3
   },
   "file_extension": ".py",
   "mimetype": "text/x-python",
   "name": "python",
   "nbconvert_exporter": "python",
   "pygments_lexer": "ipython3",
   "version": "3.7.3"
  }
 },
 "nbformat": 4,
 "nbformat_minor": 4
}
