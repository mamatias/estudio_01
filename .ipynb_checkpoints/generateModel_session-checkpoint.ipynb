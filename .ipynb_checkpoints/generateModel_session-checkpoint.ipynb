{
 "cells": [
  {
   "cell_type": "markdown",
   "metadata": {},
   "source": [
    "## Model (network) Generation\n",
    "*Load data*"
   ]
  },
  {
   "cell_type": "code",
   "execution_count": null,
   "metadata": {},
   "outputs": [],
   "source": [
    "import util\n",
    "\n",
    "dtt_b1 = util.unpickle('../pFiles/data_to_train_b1.p')\n",
    "dtt_b2 = util.unpickle('../pFiles/data_to_train_b2.p')\n",
    "dtt_b3 = util.unpickle('../pFiles/data_to_train_b3.p')\n",
    "dtt_b4 = util.unpickle('../pFiles/data_to_train_b4.p')\n",
    "dtt_b5 = util.unpickle('../pFiles/data_to_train_b5.p')\n",
    "print(dtt_b1.keys())"
   ]
  },
  {
   "cell_type": "code",
   "execution_count": null,
   "metadata": {},
   "outputs": [],
   "source": []
  }
 ],
 "metadata": {
  "kernelspec": {
   "display_name": "Python 3",
   "language": "python",
   "name": "python3"
  },
  "language_info": {
   "codemirror_mode": {
    "name": "ipython",
    "version": 3
   },
   "file_extension": ".py",
   "mimetype": "text/x-python",
   "name": "python",
   "nbconvert_exporter": "python",
   "pygments_lexer": "ipython3",
   "version": "3.7.3"
  }
 },
 "nbformat": 4,
 "nbformat_minor": 4
}
