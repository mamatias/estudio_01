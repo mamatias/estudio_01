{
 "cells": [
  {
   "cell_type": "markdown",
   "metadata": {},
   "source": [
    "# Working with CIFAR10 DB\n",
    "#### Loading DB, showing random picture"
   ]
  },
  {
   "cell_type": "code",
   "execution_count": null,
   "metadata": {},
   "outputs": [],
   "source": [
    "import util\n",
    "\n",
    "db_path = '../cifar10/cifar-10-batches-py/'\n",
    "b1_path = '{pre}data_batch_1'.format(pre=db_path)\n",
    "b2_path = '{pre}data_batch_1'.format(pre=db_path)\n",
    "b3_path = '{pre}data_batch_1'.format(pre=db_path)\n",
    "b4_path = '{pre}data_batch_1'.format(pre=db_path)\n",
    "b5_path = '{pre}data_batch_1'.format(pre=db_path)\n",
    "bt_path = '{pre}test_batch'.format(pre=db_path)\n",
    "# Loading batch1 file\n",
    "\n",
    "b1_dicc = util.unpickle(b1_path)\n",
    "b2_dicc = util.unpickle(b2_path)\n",
    "b3_dicc = util.unpickle(b3_path)\n",
    "b4_dicc = util.unpickle(b4_path)\n",
    "b5_dicc = util.unpickle(b5_path)\n",
    "bt_dicc = util.unpickle(bt_path)"
   ]
  },
  {
   "cell_type": "markdown",
   "metadata": {},
   "source": [
    "*Original shape: (num_channel, width, height)* <br>\n",
    "*Desire shape (TF and matlibplot): (width, height, num_channel)* <br>\n",
    "<br>\n",
    "*Every \"BATCH\" group is conformed by 10000 images*"
   ]
  },
  {
   "cell_type": "code",
   "execution_count": null,
   "metadata": {},
   "outputs": [],
   "source": [
    "import numpy as np\n",
    "\n",
    "#b1_dicc['data'] = np.reshape(b1_dicc['data'],10000,32,32)\n",
    "\n",
    "b1_pics = b1_dicc['data'].reshape(10000, 3, 32, 32)\n",
    "b1_lbls = util.one_hot_enconde(b1_dicc['labels'])\n",
    "\n",
    "b2_pics = b2_dicc['data'].reshape(10000, 3, 32, 32)\n",
    "b2_lbls = util.one_hot_enconde(b2_dicc['labels'])\n",
    "\n",
    "b3_pics = b3_dicc['data'].reshape(10000, 3, 32, 32)\n",
    "b3_lbls = util.one_hot_enconde(b3_dicc['labels'])\n",
    "\n",
    "b4_pics = b4_dicc['data'].reshape(10000, 3, 32, 32)\n",
    "b4_lbls = util.one_hot_enconde(b4_dicc['labels'])\n",
    "\n",
    "b5_pics = b5_dicc['data'].reshape(10000, 3, 32, 32)\n",
    "b5_lbls = util.one_hot_enconde(b5_dicc['labels'])\n",
    "\n",
    "bt_pics = bt_dicc['data'].reshape(10000, 3, 32, 32)\n",
    "bt_lbls = util.one_hot_enconde(bt_dicc['labels'])"
   ]
  },
  {
   "cell_type": "markdown",
   "metadata": {},
   "source": [
    "### Randomize it, normalization and taking data for validation set."
   ]
  },
  {
   "cell_type": "code",
   "execution_count": null,
   "metadata": {},
   "outputs": [],
   "source": [
    "import matplotlib.pyplot as plt\n",
    "import random\n",
    "\n",
    "pics_tt_b1 = []\n",
    "lbls_tt_b1 = []\n",
    "pics_tt_b2 = []\n",
    "lbls_tt_b2 = []\n",
    "pics_tt_b3 = []\n",
    "lbls_tt_b3 = []\n",
    "pics_tt_b4 = []\n",
    "lbls_tt_b4 = []\n",
    "pics_tt_b5 = []\n",
    "lbls_tt_b5 = []\n",
    "pics_tv = []\n",
    "lbls_tv = []\n",
    "pics_te = []\n",
    "lbls_te = []\n",
    "\n",
    "idxs = list(range(len(b1_pics)))\n",
    "random.shuffle(idxs)\n",
    "\n",
    "idx_th = int(len(b1_pics)*0.9)\n",
    "\n",
    "for idx, n in enumerate(idxs):\n",
    "    pics_te.append(util.customNormalize(np.transpose(bt_pics[idx],(1,2,0))))\n",
    "    lbls_te.append(bt_lbls[idx])\n",
    "    if n < idx_th:\n",
    "        pics_tt_b1.append(util.customNormalize(np.transpose(b1_pics[idx],(1,2,0))))\n",
    "        pics_tt_b2.append(util.customNormalize(np.transpose(b2_pics[idx],(1,2,0))))\n",
    "        pics_tt_b3.append(util.customNormalize(np.transpose(b3_pics[idx],(1,2,0))))\n",
    "        pics_tt_b4.append(util.customNormalize(np.transpose(b4_pics[idx],(1,2,0))))\n",
    "        pics_tt_b5.append(util.customNormalize(np.transpose(b5_pics[idx],(1,2,0))))\n",
    "        lbls_tt_b1.append(b1_lbls[idx])\n",
    "        lbls_tt_b2.append(b2_lbls[idx])\n",
    "        lbls_tt_b3.append(b3_lbls[idx])\n",
    "        lbls_tt_b4.append(b4_lbls[idx])\n",
    "        lbls_tt_b5.append(b5_lbls[idx])\n",
    "    else:\n",
    "        pics_tv.append(util.customNormalize(np.transpose(b1_pics[idx],(1,2,0))))\n",
    "        pics_tv.append(util.customNormalize(np.transpose(b2_pics[idx],(1,2,0))))\n",
    "        pics_tv.append(util.customNormalize(np.transpose(b3_pics[idx],(1,2,0))))\n",
    "        pics_tv.append(util.customNormalize(np.transpose(b4_pics[idx],(1,2,0))))\n",
    "        pics_tv.append(util.customNormalize(np.transpose(b5_pics[idx],(1,2,0))))\n",
    "        lbls_tv.append(b1_lbls[idx])\n",
    "        lbls_tv.append(b2_lbls[idx])\n",
    "        lbls_tv.append(b3_lbls[idx])\n",
    "        lbls_tv.append(b4_lbls[idx])\n",
    "        lbls_tv.append(b5_lbls[idx])"
   ]
  },
  {
   "cell_type": "markdown",
   "metadata": {},
   "source": [
    "*Prepare arrays for training, validation and testing*"
   ]
  },
  {
   "cell_type": "markdown",
   "metadata": {},
   "source": [
    "*Little plot for watch 9 random pictures*"
   ]
  },
  {
   "cell_type": "code",
   "execution_count": null,
   "metadata": {},
   "outputs": [],
   "source": [
    "lbls_ts = []\n",
    "for i in range(9):\n",
    "    # define subplot\n",
    "    plt.subplot(330 + 1 + i)\n",
    "    n_pic = random.randint(0,len(pics_tt_b1))\n",
    "    plt.imshow(pics_tt_b1[n_pic])\n",
    "    lbls_ts.append(util.decodeOHE(lbls_tt_b1[n_pic]))\n",
    "plt.show()\n",
    "print(lbls_ts)"
   ]
  },
  {
   "cell_type": "markdown",
   "metadata": {},
   "source": [
    "*Directory preparation for DATA save*"
   ]
  },
  {
   "cell_type": "code",
   "execution_count": null,
   "metadata": {},
   "outputs": [],
   "source": [
    "import shutil\n",
    "from os import mkdir\n",
    "\n",
    "shutil.rmtree('../pFiles', ignore_errors=True, onerror=None)\n",
    "mkdir('../pFiles')\n",
    "\n",
    "util.pickle((pics_tt_b1, lbls_tt_b1),'../pFiles/data_to_train_b1.p')\n",
    "util.pickle((pics_tt_b2, lbls_tt_b2),'../pFiles/data_to_train_b2.p')\n",
    "util.pickle((pics_tt_b3, lbls_tt_b3),'../pFiles/data_to_train_b3.p')\n",
    "util.pickle((pics_tt_b4, lbls_tt_b4),'../pFiles/data_to_train_b4.p')\n",
    "util.pickle((pics_tt_b5, lbls_tt_b5),'../pFiles/data_to_train_b5.p')\n",
    "util.pickle((pics_tv, lbls_tv),'../pFiles/data_to_validate.p')\n",
    "util.pickle((pics_te, lbls_te),'../pFiles/data_to_evaluate.p')"
   ]
  },
  {
   "cell_type": "markdown",
   "metadata": {},
   "source": [
    "#### Bibliografía\n",
    "*https://machinelearningmastery.com/how-to-develop-a-cnn-from-scratch-for-cifar-10-photo-classification/*\n",
    "*https://towardsdatascience.com/cifar-10-image-classification-in-tensorflow-5b501f7dc77c*"
   ]
  }
 ],
 "metadata": {
  "kernelspec": {
   "display_name": "Python 3",
   "language": "python",
   "name": "python3"
  },
  "language_info": {
   "codemirror_mode": {
    "name": "ipython",
    "version": 3
   },
   "file_extension": ".py",
   "mimetype": "text/x-python",
   "name": "python",
   "nbconvert_exporter": "python",
   "pygments_lexer": "ipython3",
   "version": "3.7.3"
  }
 },
 "nbformat": 4,
 "nbformat_minor": 4
}
